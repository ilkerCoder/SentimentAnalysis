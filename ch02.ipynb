{
 "cells": [
  {
   "cell_type": "markdown",
   "metadata": {},
   "source": [
    "<h4><b><i>THIS CHAPTER İNCLUDES: </i></b></h4>\n",
    "<ul>\n",
    "<li> \n",
    "Removing HTML tags\n",
    "\n",
    "</li> \n",
    "<li>\n",
    "<a href=\"#text_tokenization\">\n",
    " Tokenization\n",
    " </a>\n",
    " </li> \n",
    "<li>\n",
    " Removing unnecessary tokens and stopwords\n",
    " </li> \n",
    "<li>\n",
    " Handling contractions\n",
    " </li> \n",
    "<li>\n",
    " Correcting spelling errors\n",
    " </li> \n",
    "<li>\n",
    " Stemming\n",
    " </li> \n",
    "<li> \n",
    " Lemmatization\n",
    "</li> \n",
    "<li> \n",
    " Tagging\n",
    "</li> \n",
    "<li>\n",
    " Chunking\n",
    " </li> \n",
    "<li>\n",
    " Parsing\n",
    " </li> \n",
    "</ul>\n"
   ]
  },
  {
   "cell_type": "code",
   "execution_count": 2,
   "metadata": {},
   "outputs": [],
   "source": [
    "import requests"
   ]
  },
  {
   "cell_type": "code",
   "execution_count": 3,
   "metadata": {},
   "outputs": [],
   "source": [
    "get = requests.get(\n",
    "    \"https://www.webtekno.com/rahatsiz-etse-de-neden-aci-yemeye-devam-ederiz-h144048.html\")"
   ]
  },
  {
   "cell_type": "code",
   "execution_count": 4,
   "metadata": {},
   "outputs": [
    {
     "data": {
      "text/plain": [
       "b'ca\\xc4\\x9f\\xc4\\xb1n\\xc4\\xb1 hatta midemizin a\\xc4\\x9fr\\xc4\\xb1yaca\\xc4\\x9f\\xc4\\xb1n\\xc4\\xb1 bilerek neden ac\\xc4\\xb1 yemeye devam ederiz?\" />\\n<link rel=\"p'"
      ]
     },
     "execution_count": 4,
     "metadata": {},
     "output_type": "execute_result"
    }
   ],
   "source": [
    "get.content[400:500]"
   ]
  },
  {
   "cell_type": "markdown",
   "metadata": {},
   "source": [
    "<h4><b><i>HTML TAGLERİNİ CIKARTMAMIZ GEREK.</i></b><h4>\n"
   ]
  },
  {
   "cell_type": "code",
   "execution_count": 5,
   "metadata": {},
   "outputs": [],
   "source": [
    "import re\n",
    "from bs4 import BeautifulSoup"
   ]
  },
  {
   "cell_type": "code",
   "execution_count": 6,
   "metadata": {},
   "outputs": [],
   "source": [
    "def strip_html_tags(text):\n",
    "    soup = BeautifulSoup(text, \"html.parser\")\n",
    "    [s.extract() for s in soup(['iframe', 'script'])]\n",
    "    stripped_text = soup.get_text()\n",
    "    stripped_text = stripped_text.replace(\"\\n\", \"\")\n",
    "    return stripped_text"
   ]
  },
  {
   "cell_type": "code",
   "execution_count": 7,
   "metadata": {},
   "outputs": [
    {
     "data": {
      "text/plain": [
       "\"Bizi Rahatsız Etse de Acı Yemeye Neden Israrla Devam Ederiz? - Webtekno Giriş YapŞifremi unuttumGİRİŞ YAPÜyeliğiniz yoksa yeni üyelik oluşturun.veyaFACEBOOK İLE GİRİŞ YAPÜye OlGizlilik politikasını kabul ediyorum.ÜYE OLÜyeliğiniz varsa giriş yapın.veyaFACEBOOK İLE KAYIT OLYorum gönderZiyaretçi olarak yorum yapıyorsun.Yorumlarında adının ve profil resminin görülebilmesi için üye olman veya giriş yapman gerekiyor.YORUMU GÖNDERGİRİŞ YAPÜyeliğiniz yoksa yeni üyelik oluşturun.veyaFACEBOOK İLE GİRİŞ YAPwebtekno - Teknoloji HaberleriANASAYFAHABERVİDEOKATEGORİLERBilim HaberleriDonanımEğitimGiyilebilir TeknolojiİnternetKripto ParaMobilMobil UygulamaOtomobilOyunSektörelSinema ve DiziSosyal MedyaUzayYapay ZekâYaşamYazılımwebtekno - Teknoloji HaberleriAnasayfaHaberVideoFavorilerimEn Çok OkunanlarEn Çok PaylaşılanlarEn Çok İzlenenlerKategorilerBilim HaberleriDonanımEğitimGiyilebilir TeknolojiİnternetKripto ParaMobilMobil UygulamaOtomobilOyunSektörelSinema ve DiziSosyal MedyaUzayYapay ZekâYaşamYazılımHakkımızdaYazarlarÖdüllerimizKünyeGizlilikİletişimFacebook'ta Takip EdinTwitter'da Takip EdinYoutube'ta Takip EdinInstagram'da Takip EdinTelegram'da Takip Edin AnasayfaYaşamİlgili KonularÖzellikleriTürkiyeTelefonArabaDünyaMazoşizmin En Yaygın Şekli: Kulaklarımızdan Ateşler Fışkırsa da Acı Yemeye Neden Israrla Devam Ederiz?Asya Melis Akdoğan—2 dk okuma süresi18 Mayıs 2024 Cumartesi, 12:3021000  Birçoğumuz; dilimizin yanacağını, gözlerimizin yaşaracağını hatta midemizin ağrıyacağını bilerek acı yemeye devam ederiz. Peki bizi böylesine rahatsız eden bir şeyi tüketmeye neden ısrarla devam ederiz?Tabiri caizse acıdan keyif almak tam olarak böyle bir şey olsa gerek. Acıyı her ne kadar sevdiğimiz için tükettiğimizi savunsak da\\xa0göz göre göre dayanılmaz bir acı çekmek ciddi anlamda ne kadar mantıklı?Aslında bu davranışımızın arkasında hiç bilmediğimiz nedenler var.Acıdan keyif alma durumu, iyicil mazoşizm olarak bilinir.Aslında acı ve zevk, beyinde birbirleriyle bağlantılı bir durumdur. Acı hissi, merkezi sinir sisteminde endorfin salgılanmasına olanak sağlar. Aynı zamanda bu tarz durumlarda tıpkı endorfin gibi insanı iyi hissettiren dopamin ve serotonin hormonları da harekete geçer.Ayrıca bu endorfin hormonu, insan aşırı heyecanlandığında ya da aşırı mutlu hissettiğinde de salgılanır. Yani bu hormon vücudumuzda ne kadar salgılanırsa kendimizi o oranda mutlu hissederiz.\\xa0İyicil mazoşizm teorisine göre bazı acıların mutluluk vermesinin sebebi de budur.Acı yemekler kısmına dönersek, bu tercihimizi açıklayan bir teori daha vardır.Bu görüş, baharatlı yiyeceklerin antibakteriyel özelliklerine işaret eder. İnsanlar zaman içinde bu özelliği fark edip, kültürel ve genetik olarak baharatlı yiyecekleri tercih etmiş olabilirler.Öte yandan tat alma duyusu, yediğimiz yemeklerin dilimizdeki tat alma hücrelerini harekete geçirmesi ve beyne giden sinirleri tetiklemesiyle oluşur. Yine tat alma tomurcuklarımız acı ile karşılaştığında bu, beynimize yiyeceğin daha temiz olduğunun bir işareti olarak da iletilir.\\xa0Kaynaklar: BBC, Cambridge University Pressİlginizi çekebilecek diğer içeriklerimiz: İLGİLİ HABERAcı Yedikten Sonra Serinlemek İçin İçtiğiniz Suyun Etkisini Öğrenince Oturup Acı Çekmeyi Tercih Edeceksiniz İLGİLİ HABERAcı Bir Şeyler Yerken Birdenbire Başlayan Burun Akıntısının Sebebi Nedir? İLGİLİ HABERUçaktaki Yemeklerin Tadı Neden Normalden Çok Daha Kötü? Sebebi Aşçılar Değil, Sizsiniz! İLGİLİ HABERSoğuk Suyun Tadı, Ilık Suya Kıyasla Neden Çok Daha Ferah ve Lezzetlidir?Webtekno'yu Threads'de takip et, haberleri kaçırma21000  Emoji İle Tepki Ver21000 Sponsorlu - Uygulamaya yönlendirirWebtekno'yu Threads'de takip et, haberleri kaçırmaEn Güncel HaberlerFarklı Farklı Yollardaki Hız Limitlerinin Neye Göre Belirlendiğin...Tom Cruise, Brad Pitt ve Leonardo DiCaprio Başrollü, 90'larda Çek...Almanya’daki Türklere Sorduk: Alman Usulü Gerçekten Almanlar Tara...Call of Duty Rakibi XDefiant, Ubisoft'un En Hızlı 1 Milyon Oyuncu...Apple’ın İşe Almak İçin Sorduğu Portakal ve Elma Sorusunu Geçebil...Olaylı Geçen Formula 1 Monako GP Tamamlandı! Charles Leclerc, 2 Y...Eğlenirken Neden Zaman Uçup Gidiyor da Sıkıcı Anlarımızda Gün Hiç...Apple'ın Yıllar Önce iPod İçin Tetris Benzeri Bir Oyun Geliştirdi...Yeni FIFA Oyunu İçin 2K ile Anlaşıldığı İddia Edildi: FIFA 2K25 m...Filmlerdeki Mahkeme Sahnelerinde Gördüğümüz Tokmakların Hâkimlerl...En Güncel HaberlerFarklı Farklı Yollardaki Hız Limitlerinin Neye Göre Belirlendiğin...Tom Cruise, Brad Pitt ve Leonardo DiCaprio Başrollü, 90'larda Çek...Almanya’daki Türklere Sorduk: Alman Usulü Gerçekten Almanlar Tara...Call of Duty Rakibi XDefiant, Ubisoft'un En Hızlı 1 Milyon Oyuncu...Apple’ın İşe Almak İçin Sorduğu Portakal ve Elma Sorusunu Geçebil...Olaylı Geçen Formula 1 Monako GP Tamamlandı! Charles Leclerc, 2 Y...Eğlenirken Neden Zaman Uçup Gidiyor da Sıkıcı Anlarımızda Gün Hiç...Apple'ın Yıllar Önce iPod İçin Tetris Benzeri Bir Oyun Geliştirdi...Yeni FIFA Oyunu İçin 2K ile Anlaşıldığı İddia Edildi: FIFA 2K25 m...Filmlerdeki Mahkeme Sahnelerinde Gördüğümüz Tokmakların Hâkimlerl...Bugün En Çok OkunanlarTürkçeye En Çok Benzeyen Dil Hangisi? Hayır, Azerbaycan Türkçesi...42BÇoğu Avrupa Şehrinin İsminde Neden ‘Burg’ İfadesi Var, Ne Anlama...23BDünyanın En Eski Dili Hangisidir? (Cevap Epey Tartışmalı!)19BResmî Gazete'de Yayımlandı: Üniversitelerde 4 Fakülte Kuruldu, 5...16BCIA, Gecenin Köründe Rus Hind-D Helikopterini Tıpkı Filmlerdeki G...15BNASA'dan Ayrılıp Türkiye'ye Dönen Astrofizikçi Umut Yıldız, ODTÜ...15BAmazon'da Apple Ürünlerinde %45'e Varan İndirimlerde Son Gün!14BStanley Termoslar Amazon'da İndirimde! En Sık Tercih Edilen İndir...14BÇin, Mahkûmlarına World of Warcraft Oynatarak Nasıl Para Kazanıyo...14BAlmanya'da Güneş Enerjisi, Elektrik Fiyatlarını Dibe Çekti14BBizi Takip Et574BBEĞENİ370BTAKİPÇİ1.7MTAKİPÇİ3,18MABONE35BTAKİPÇİ \""
      ]
     },
     "execution_count": 7,
     "metadata": {},
     "output_type": "execute_result"
    }
   ],
   "source": [
    "clean_content = strip_html_tags(get.content)\n",
    "clean_content"
   ]
  },
  {
   "cell_type": "markdown",
   "metadata": {},
   "source": [
    "<h4><i><b><a id=\"text_tokenization\">TEXT TOKENİZATİON <a></b></i></h4>\n"
   ]
  },
  {
   "cell_type": "code",
   "execution_count": 1,
   "metadata": {},
   "outputs": [],
   "source": [
    "import spacy\n",
    "import numpy as np\n",
    "import pandas as pd"
   ]
  },
  {
   "cell_type": "code",
   "execution_count": 8,
   "metadata": {},
   "outputs": [],
   "source": [
    "nlp = spacy.load(\"tr_core_news_md\")"
   ]
  },
  {
   "cell_type": "code",
   "execution_count": 9,
   "metadata": {},
   "outputs": [],
   "source": [
    "doc = nlp(clean_content)"
   ]
  },
  {
   "cell_type": "code",
   "execution_count": 10,
   "metadata": {},
   "outputs": [],
   "source": [
    "sentences = [sent.text for sent in doc.sents]"
   ]
  },
  {
   "cell_type": "code",
   "execution_count": 12,
   "metadata": {},
   "outputs": [
    {
     "data": {
      "text/plain": [
       "['Bizi Rahatsız Etse de Acı Yemeye',\n",
       " 'Neden Israrla Devam Ederiz?',\n",
       " '- Webtekno Giriş YapŞifremi',\n",
       " 'unuttumGİRİŞ YAPÜyeliğiniz yoksa yeni üyelik oluşturun.veyaFACEBOOK İLE GİRİŞ YAPÜye']"
      ]
     },
     "execution_count": 12,
     "metadata": {},
     "output_type": "execute_result"
    }
   ],
   "source": [
    "sentences[:4]"
   ]
  },
  {
   "cell_type": "code",
   "execution_count": 73,
   "metadata": {},
   "outputs": [
    {
     "name": "stdout",
     "output_type": "stream",
     "text": [
      "TOPLAM CUMLE SAYISI ==> 91\n"
     ]
    },
    {
     "data": {
      "text/plain": [
       "0    - Uygulamaya yönlendirirWebtekno'yu Threads'de...\n",
       "Name: 44, dtype: object"
      ]
     },
     "execution_count": 73,
     "metadata": {},
     "output_type": "execute_result"
    }
   ],
   "source": [
    "print(\"TOPLAM CUMLE SAYISI ==>\", len(sentences))\n",
    "np.array(sentences)\n",
    "sentences_df = pd.DataFrame(sentences)\n",
    "sentences_df.iloc[44]"
   ]
  },
  {
   "cell_type": "code",
   "execution_count": null,
   "metadata": {},
   "outputs": [],
   "source": []
  }
 ],
 "metadata": {
  "kernelspec": {
   "display_name": "Python 3",
   "language": "python",
   "name": "python3"
  },
  "language_info": {
   "codemirror_mode": {
    "name": "ipython",
    "version": 3
   },
   "file_extension": ".py",
   "mimetype": "text/x-python",
   "name": "python",
   "nbconvert_exporter": "python",
   "pygments_lexer": "ipython3",
   "version": "3.9.5"
  }
 },
 "nbformat": 4,
 "nbformat_minor": 2
}
