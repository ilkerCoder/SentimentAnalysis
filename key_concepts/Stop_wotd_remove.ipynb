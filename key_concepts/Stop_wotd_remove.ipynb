{
 "cells": [
  {
   "cell_type": "markdown",
   "metadata": {},
   "source": [
    "<h2> BURADAKİ STOPWORDS ADEDİ SADECE 52. BU COK AZ . ONUN İCİN İNTERNETTEN BİR STOPWORDS TXT DOSYASI BULDUM. ONU\n",
    "KULLANACAGIZ. </h2>\n"
   ]
  },
  {
   "cell_type": "code",
   "execution_count": 29,
   "metadata": {},
   "outputs": [],
   "source": [
    "import nltk\n",
    "from nltk.corpus import stopwords\n",
    "import pandas as pd\n",
    "import sys"
   ]
  },
  {
   "cell_type": "code",
   "execution_count": 3,
   "metadata": {},
   "outputs": [],
   "source": [
    "stopwords_tr = stopwords.words(\"turkish\")"
   ]
  },
  {
   "cell_type": "code",
   "execution_count": 17,
   "metadata": {},
   "outputs": [
    {
     "data": {
      "text/plain": [
       "list"
      ]
     },
     "execution_count": 17,
     "metadata": {},
     "output_type": "execute_result"
    }
   ],
   "source": [
    "type(stopwords_tr)"
   ]
  },
  {
   "cell_type": "code",
   "execution_count": 15,
   "metadata": {},
   "outputs": [],
   "source": [
    "df = pd.DataFrame(stopwords_tr, columns=[\"kelimeler:\"]).T"
   ]
  },
  {
   "cell_type": "markdown",
   "metadata": {},
   "source": [
    "MODELLERDE BU GEREKSIZ KELIMELERIN CIKARTILIP DEVAM EDILMESI LAZIM\n"
   ]
  },
  {
   "cell_type": "code",
   "execution_count": 16,
   "metadata": {},
   "outputs": [
    {
     "data": {
      "text/html": [
       "<div>\n",
       "<style scoped>\n",
       "    .dataframe tbody tr th:only-of-type {\n",
       "        vertical-align: middle;\n",
       "    }\n",
       "\n",
       "    .dataframe tbody tr th {\n",
       "        vertical-align: top;\n",
       "    }\n",
       "\n",
       "    .dataframe thead th {\n",
       "        text-align: right;\n",
       "    }\n",
       "</style>\n",
       "<table border=\"1\" class=\"dataframe\">\n",
       "  <thead>\n",
       "    <tr style=\"text-align: right;\">\n",
       "      <th></th>\n",
       "      <th>0</th>\n",
       "      <th>1</th>\n",
       "      <th>2</th>\n",
       "      <th>3</th>\n",
       "      <th>4</th>\n",
       "      <th>5</th>\n",
       "      <th>6</th>\n",
       "      <th>7</th>\n",
       "      <th>8</th>\n",
       "      <th>9</th>\n",
       "      <th>...</th>\n",
       "      <th>43</th>\n",
       "      <th>44</th>\n",
       "      <th>45</th>\n",
       "      <th>46</th>\n",
       "      <th>47</th>\n",
       "      <th>48</th>\n",
       "      <th>49</th>\n",
       "      <th>50</th>\n",
       "      <th>51</th>\n",
       "      <th>52</th>\n",
       "    </tr>\n",
       "  </thead>\n",
       "  <tbody>\n",
       "    <tr>\n",
       "      <th>kelimeler:</th>\n",
       "      <td>acaba</td>\n",
       "      <td>ama</td>\n",
       "      <td>aslında</td>\n",
       "      <td>az</td>\n",
       "      <td>bazı</td>\n",
       "      <td>belki</td>\n",
       "      <td>biri</td>\n",
       "      <td>birkaç</td>\n",
       "      <td>birşey</td>\n",
       "      <td>biz</td>\n",
       "      <td>...</td>\n",
       "      <td>o</td>\n",
       "      <td>sanki</td>\n",
       "      <td>şey</td>\n",
       "      <td>siz</td>\n",
       "      <td>şu</td>\n",
       "      <td>tüm</td>\n",
       "      <td>ve</td>\n",
       "      <td>veya</td>\n",
       "      <td>ya</td>\n",
       "      <td>yani</td>\n",
       "    </tr>\n",
       "  </tbody>\n",
       "</table>\n",
       "<p>1 rows × 53 columns</p>\n",
       "</div>"
      ],
      "text/plain": [
       "               0    1        2   3     4      5     6       7       8    9   \\\n",
       "kelimeler:  acaba  ama  aslında  az  bazı  belki  biri  birkaç  birşey  biz   \n",
       "\n",
       "            ... 43     44   45   46  47   48  49    50  51    52  \n",
       "kelimeler:  ...  o  sanki  şey  siz  şu  tüm  ve  veya  ya  yani  \n",
       "\n",
       "[1 rows x 53 columns]"
      ]
     },
     "execution_count": 16,
     "metadata": {},
     "output_type": "execute_result"
    }
   ],
   "source": [
    "df"
   ]
  },
  {
   "cell_type": "code",
   "execution_count": 30,
   "metadata": {},
   "outputs": [],
   "source": [
    "sys.path.append(\"..\")"
   ]
  },
  {
   "cell_type": "code",
   "execution_count": 47,
   "metadata": {},
   "outputs": [],
   "source": [
    "from stop_words import StopWords\n",
    "stop_words_tr = StopWords(\"../turkce_stop_words.txt\").load_get_stopwords()"
   ]
  },
  {
   "cell_type": "code",
   "execution_count": 48,
   "metadata": {},
   "outputs": [
    {
     "data": {
      "text/html": [
       "<div>\n",
       "<style scoped>\n",
       "    .dataframe tbody tr th:only-of-type {\n",
       "        vertical-align: middle;\n",
       "    }\n",
       "\n",
       "    .dataframe tbody tr th {\n",
       "        vertical-align: top;\n",
       "    }\n",
       "\n",
       "    .dataframe thead th {\n",
       "        text-align: right;\n",
       "    }\n",
       "</style>\n",
       "<table border=\"1\" class=\"dataframe\">\n",
       "  <thead>\n",
       "    <tr style=\"text-align: right;\">\n",
       "      <th></th>\n",
       "      <th>0</th>\n",
       "      <th>1</th>\n",
       "      <th>2</th>\n",
       "      <th>3</th>\n",
       "      <th>4</th>\n",
       "      <th>5</th>\n",
       "      <th>6</th>\n",
       "      <th>7</th>\n",
       "      <th>8</th>\n",
       "      <th>9</th>\n",
       "      <th>...</th>\n",
       "      <th>275</th>\n",
       "      <th>276</th>\n",
       "      <th>277</th>\n",
       "      <th>278</th>\n",
       "      <th>279</th>\n",
       "      <th>280</th>\n",
       "      <th>281</th>\n",
       "      <th>282</th>\n",
       "      <th>283</th>\n",
       "      <th>284</th>\n",
       "    </tr>\n",
       "  </thead>\n",
       "  <tbody>\n",
       "    <tr>\n",
       "      <th>kelimeler</th>\n",
       "      <td>a</td>\n",
       "      <td>acaba</td>\n",
       "      <td>altı</td>\n",
       "      <td>altmış</td>\n",
       "      <td>ama</td>\n",
       "      <td>ancak</td>\n",
       "      <td>arada</td>\n",
       "      <td>artık</td>\n",
       "      <td>asla</td>\n",
       "      <td>aslında</td>\n",
       "      <td>...</td>\n",
       "      <td>yetmiş</td>\n",
       "      <td>yi</td>\n",
       "      <td>yı</td>\n",
       "      <td>yine</td>\n",
       "      <td>yirmi</td>\n",
       "      <td>yoksa</td>\n",
       "      <td>yu</td>\n",
       "      <td>yüz</td>\n",
       "      <td>zaten</td>\n",
       "      <td>zira</td>\n",
       "    </tr>\n",
       "  </tbody>\n",
       "</table>\n",
       "<p>1 rows × 285 columns</p>\n",
       "</div>"
      ],
      "text/plain": [
       "          0      1     2       3    4      5      6      7     8        9    \\\n",
       "kelimeler   a  acaba  altı  altmış  ama  ancak  arada  artık  asla  aslında   \n",
       "\n",
       "           ...     275 276 277   278    279    280 281  282    283   284  \n",
       "kelimeler  ...  yetmiş  yi  yı  yine  yirmi  yoksa  yu  yüz  zaten  zira  \n",
       "\n",
       "[1 rows x 285 columns]"
      ]
     },
     "execution_count": 48,
     "metadata": {},
     "output_type": "execute_result"
    }
   ],
   "source": [
    "df_stopwords = pd.DataFrame(stop_words_tr, columns=[\"kelimeler\"]).T\n",
    "df_stopwords"
   ]
  }
 ],
 "metadata": {
  "kernelspec": {
   "display_name": "Python 3",
   "language": "python",
   "name": "python3"
  },
  "language_info": {
   "codemirror_mode": {
    "name": "ipython",
    "version": 3
   },
   "file_extension": ".py",
   "mimetype": "text/x-python",
   "name": "python",
   "nbconvert_exporter": "python",
   "pygments_lexer": "ipython3",
   "version": "3.9.5"
  }
 },
 "nbformat": 4,
 "nbformat_minor": 2
}
