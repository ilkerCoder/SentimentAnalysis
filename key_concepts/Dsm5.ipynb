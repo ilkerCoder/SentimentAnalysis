{
 "cells": [
  {
   "cell_type": "markdown",
   "metadata": {},
   "source": [
    "ÖNCE BEN KELİMESİNİN CEKİMLERİNİ ZEMBEREKLE HALLEDELİM. DAHA SONRA BEN KELİMESİ GEÇEN SATIRLARIN KAÇ TANESİNİN POZİTİF OLARAK İŞARETLENDİĞİNE BAKALIM.\n"
   ]
  },
  {
   "cell_type": "code",
   "execution_count": 2,
   "metadata": {},
   "outputs": [],
   "source": [
    "import sys\n",
    "sys.path.append(\"..\")"
   ]
  },
  {
   "cell_type": "code",
   "execution_count": 9,
   "metadata": {},
   "outputs": [],
   "source": [
    "import pandas as pd\n",
    "from stop_words import StopWords\n",
    "from wordcloud import WordCloud\n",
    "import matplotlib.pyplot as plt\n",
    "from zemberek import TurkishMorphology, TurkishTokenizer"
   ]
  },
  {
   "cell_type": "code",
   "execution_count": 4,
   "metadata": {},
   "outputs": [],
   "source": [
    "stopwords_tr = StopWords(\"../turkce_stop_words.txt\").load_get_stopwords()\n",
    "df = pd.read_csv(\n",
    "    filepath_or_buffer=\"../processed_datas/Processed_Hacettepe_Movie_Review.csv\")"
   ]
  },
  {
   "cell_type": "code",
   "execution_count": 7,
   "metadata": {},
   "outputs": [],
   "source": [
    "df.drop(\"id\", axis=1, inplace=True)"
   ]
  },
  {
   "cell_type": "code",
   "execution_count": 8,
   "metadata": {},
   "outputs": [
    {
     "data": {
      "text/html": [
       "<div>\n",
       "<style scoped>\n",
       "    .dataframe tbody tr th:only-of-type {\n",
       "        vertical-align: middle;\n",
       "    }\n",
       "\n",
       "    .dataframe tbody tr th {\n",
       "        vertical-align: top;\n",
       "    }\n",
       "\n",
       "    .dataframe thead th {\n",
       "        text-align: right;\n",
       "    }\n",
       "</style>\n",
       "<table border=\"1\" class=\"dataframe\">\n",
       "  <thead>\n",
       "    <tr style=\"text-align: right;\">\n",
       "      <th></th>\n",
       "      <th>comment</th>\n",
       "      <th>sentiment</th>\n",
       "    </tr>\n",
       "  </thead>\n",
       "  <tbody>\n",
       "    <tr>\n",
       "      <th>0</th>\n",
       "      <td>brad bitt fılmde cesur savascı rolunu yapamam...</td>\n",
       "      <td>Negative</td>\n",
       "    </tr>\n",
       "    <tr>\n",
       "      <th>1</th>\n",
       "      <td>Her şeyden önce film üzerine yorumumu iki böl...</td>\n",
       "      <td>Negative</td>\n",
       "    </tr>\n",
       "  </tbody>\n",
       "</table>\n",
       "</div>"
      ],
      "text/plain": [
       "                                             comment sentiment\n",
       "0   brad bitt fılmde cesur savascı rolunu yapamam...  Negative\n",
       "1   Her şeyden önce film üzerine yorumumu iki böl...  Negative"
      ]
     },
     "execution_count": 8,
     "metadata": {},
     "output_type": "execute_result"
    }
   ],
   "source": [
    "df.head(2)"
   ]
  },
  {
   "cell_type": "code",
   "execution_count": 11,
   "metadata": {},
   "outputs": [
    {
     "name": "stdout",
     "output_type": "stream",
     "text": [
      "2024-05-26 23:20:11,524 - zemberek.morphology.turkish_morphology - INFO\n",
      "Msg: TurkishMorphology instance initialized in 7.472905158996582\n",
      "\n"
     ]
    }
   ],
   "source": [
    "tokenizer = TurkishTokenizer.DEFAULT\n",
    "morphology = TurkishMorphology.create_with_defaults()\n",
    "\n",
    "\n",
    "def preprocess_comment(comment):\n",
    "    tokens = tokenizer.tokenize(comment)\n",
    "    lemmatized_tokens = []\n",
    "    for token in tokens:\n",
    "        word = token.content\n",
    "        analysis = morphology.analyze(word)\n",
    "        lemmas = [str(result.item.root) for result in analysis]\n",
    "        if lemmas:\n",
    "            lemma = lemmas[0]\n",
    "        else:\n",
    "            lemma = word\n",
    "        lemmatized_tokens.append(lemma)\n",
    "    return \" \".join(lemmatized_tokens)\n",
    "\n",
    "\n",
    "df[\"processed_comment\"] = df[\"comment\"].apply(preprocess_comment)"
   ]
  },
  {
   "cell_type": "code",
   "execution_count": null,
   "metadata": {},
   "outputs": [],
   "source": [
    "import matplotlib.pyplot as plt\n",
    "positive_count = df[df[\"processed_comment\"].str.contains(\n",
    "    \"ben\") & (df[\"sentiment\"] == \"positive\")].shape[0]\n",
    "negative_count = df[df[\"processed_comment\"].str.contains(\n",
    "    \"ben\") & (df[\"sentiment\"] == \"negative\")].shape[0]\n",
    "\n",
    "\n",
    "plt.bar([\"Positive\", \"Negative\"], [positive_count, negative_count])\n",
    "plt.xlabel(\"Sentiment\")\n",
    "plt.ylabel(\"Count\")\n",
    "plt.title(\"Number of Comments Containing 'Ben' Language\")\n",
    "plt.show()"
   ]
  },
  {
   "cell_type": "markdown",
   "metadata": {},
   "source": [
    "ÖNCE BEN KELİMESİNİN CEKİMLERİNİ ZEMBEREKLE HALLEDELİM. DAHA SONRA BEN KELİMESİ GEÇEN SATIRLARIN KAÇ TANESİNİN POZİTİF OLARAK İŞARETLENDİĞİNE BAKALIM.\n"
   ]
  }
 ],
 "metadata": {
  "kernelspec": {
   "display_name": "Python 3",
   "language": "python",
   "name": "python3"
  },
  "language_info": {
   "codemirror_mode": {
    "name": "ipython",
    "version": 3
   },
   "file_extension": ".py",
   "mimetype": "text/x-python",
   "name": "python",
   "nbconvert_exporter": "python",
   "pygments_lexer": "ipython3",
   "version": "3.9.5"
  }
 },
 "nbformat": 4,
 "nbformat_minor": 2
}
